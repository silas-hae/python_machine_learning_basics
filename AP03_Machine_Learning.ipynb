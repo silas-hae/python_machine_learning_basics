{
 "cells": [
  {
   "cell_type": "markdown",
   "id": "4cf56921",
   "metadata": {},
   "source": [
    "# Arbeitspaket (AP) 3: Machine Learning (ML)"
   ]
  },
  {
   "cell_type": "markdown",
   "id": "0f7fb22f",
   "metadata": {},
   "source": [
    "### Persönliche Angaben (bitte ergänzen)"
   ]
  },
  {
   "cell_type": "markdown",
   "id": "94d35a25",
   "metadata": {},
   "source": [
    "<table>\n",
    "  <tr>\n",
    "    <td>Vorname:</td>\n",
    "    <td></td>\n",
    "  </tr>\n",
    "  <tr>\n",
    "    <td>Nachname:</td>\n",
    "    <td></td>\n",
    "  </tr>\n",
    "  <tr>\n",
    "    <td>Immatrikulationsnummer:</td>\n",
    "    <td></td>\n",
    "  </tr>\n",
    "  <tr>\n",
    "    <td>Modul:</td>\n",
    "    <td>Data Science</td>\n",
    "  </tr>\n",
    "  <tr>\n",
    "    <td>Prüfungsdatum / Raum / Zeit:</td>\n",
    "    <td>11.11.2024 / Raum: SF O3.54 / 8:00 – 11:45</td>\n",
    "  </tr>\n",
    "  <tr>\n",
    "    <td>Erlaubte Hilfsmittel:</td>\n",
    "    <td>w.MA.XX.DS.24HS (Data Science)<br>Open Book, Eigener Computer, Internet-Zugang</td>\n",
    "  </tr>\n",
    "  <tr>\n",
    "  <td>Nicht erlaubt:</td>\n",
    "  <td>Nicht erlaubt ist der Einsatz beliebiger Formen von generativer KI (z.B. Copilot, ChatGPT) <br> sowie beliebige Formen von Kommunikation oder Kollaboration mit anderen Menschen.</td>\n",
    "</tr>\n",
    "</table>"
   ]
  },
  {
   "cell_type": "markdown",
   "id": "61847f62",
   "metadata": {},
   "source": [
    "## Bewertungskriterien\n",
    "\n",
    "### <b style=\"color: gray;\">(max. erreichbare Punkte: 48)</b>\n",
    "\n",
    "<table>\n",
    "  <thead>\n",
    "    <tr>\n",
    "      <th>Kategorie</th>\n",
    "      <th>Beschreibung</th>\n",
    "      <th>Punkteverteilung</th>\n",
    "    </tr>\n",
    "  </thead>\n",
    "  <tbody>\n",
    "    <tr>\n",
    "      <td>Code nicht lauffähig oder Ergebnisse nicht sinnvoll</td>\n",
    "      <td>Der Code enthält Fehler, die verhindern, dass er ausgeführt werden kann (z.B. Syntaxfehler) oder es werden Ergebnisse ausgegeben, welche nicht zur Fragestellung passen.</td>\n",
    "      <td>0 Punkte</td>\n",
    "    </tr>\n",
    "    <tr>\n",
    "      <td>Code lauffähig, aber mit gravierenden Mängeln</td>\n",
    "      <td>Der Code läuft, aber die Ergebnisse sind aufgrund wesentlicher Fehler unvollständig (z.B. die Erstellung der Train- und Test Daten ist fehlerhaft, die gewählte Modellierungsmethode entspricht nicht den Anforderungen gemäss Fragestellung). Nur geringer Fortschritt erkennbar.</td>\n",
    "      <td>25% der max. erreichbaren Punkte</td>\n",
    "    </tr>\n",
    "    <tr>\n",
    "      <td>Code lauffähig, aber mit mittleren Mängeln</td>\n",
    "      <td>Der Code läuft und liefert teilweise korrekte Ergebnisse, aber es gibt grössere Fehler (z.B. Auswahl der Features entspricht nicht den Anforderungen gemäss Fragestellung). Die Ergebnisse sind nachvollziehbar, aber unvollständig oder ungenau.</td>\n",
    "      <td>50% der max. erreichbaren Punkte</td>\n",
    "    </tr>\n",
    "    <tr>\n",
    "      <td>Code lauffähig, aber mit minimalen Mängeln</td>\n",
    "      <td>Der Code läuft und liefert ein weitgehend korrektes Ergebnis, aber kleinere Fehler (z.B. Formatierung der Modellergebnisse entspricht nicht den Anforderungen gemäss Fragestellung) beeinträchtigen die Vollständigkeit des Ergebnisses.</td>\n",
    "      <td>75% der max. erreichbaren Punkte</td>\n",
    "    </tr>\n",
    "    <tr>\n",
    "      <td>Code lauffähig und korrekt</td>\n",
    "      <td>Der Code läuft einwandfrei und liefert das korrekte Ergebnis ohne Mängel.</td>\n",
    "      <td>100% der max. erreichbaren Punkte</td>\n",
    "    </tr>\n",
    "  </tbody>\n",
    "</table>\n",
    "\n"
   ]
  },
  {
   "cell_type": "markdown",
   "id": "9b8df3dd",
   "metadata": {},
   "source": [
    "## Python Libraries und Settings"
   ]
  },
  {
   "cell_type": "code",
   "execution_count": null,
   "id": "b027d889",
   "metadata": {},
   "outputs": [],
   "source": [
    "# Libraries\n",
    "import os\n",
    "import pickle\n",
    "import sqlite3\n",
    "import numpy as np\n",
    "import pandas as pd\n",
    "import seaborn as sns\n",
    "import scipy.stats as stats\n",
    "import statsmodels.api as sm\n",
    "import matplotlib.pyplot as plt\n",
    "from IPython.display import Image\n",
    "\n",
    "from sklearn import tree\n",
    "from sklearn import linear_model\n",
    "from sklearn.metrics import r2_score\n",
    "from sklearn.metrics import RocCurveDisplay\n",
    "from sklearn.datasets import make_regression\n",
    "from sklearn.tree import DecisionTreeRegressor\n",
    "from sklearn.tree import DecisionTreeClassifier\n",
    "from sklearn.ensemble import RandomForestRegressor\n",
    "from sklearn.ensemble import RandomForestClassifier\n",
    "from sklearn.model_selection import train_test_split\n",
    "from sklearn.metrics import classification_report, confusion_matrix\n",
    "\n",
    "# Ignore warnings\n",
    "import warnings\n",
    "warnings.filterwarnings('ignore')\n",
    "\n",
    "# Show current working directory\n",
    "print(os.getcwd())"
   ]
  },
  {
   "cell_type": "markdown",
   "id": "aac9011e",
   "metadata": {},
   "source": [
    "## <b>Vorbereitung (Dieser Teil wird <u>nicht</u> bewertet!)</b>"
   ]
  },
  {
   "cell_type": "markdown",
   "id": "2e253f40",
   "metadata": {},
   "source": [
    "#### <b>1.) Starten Sie eine GitHub Codespaces Instanz auf Basis Ihres Forks des folgenden GitHub Repositories:</b>\n",
    "\n",
    "##### GitHub-Repository: https://github.com/mario-gellrich-zhaw/python_machine_learning_basics"
   ]
  },
  {
   "cell_type": "markdown",
   "id": "60d5d5f0",
   "metadata": {},
   "source": [
    "### Einlesen des vorbereiteten Smartphone Datensatzes"
   ]
  },
  {
   "cell_type": "code",
   "execution_count": null,
   "id": "882075a7",
   "metadata": {},
   "outputs": [],
   "source": [
    "# Verbindung zur SQLite-Datenbank herstellen\n",
    "conn = sqlite3.connect('./Data/smartphone_data_prepared.db')\n",
    "\n",
    "# Cursor erstellen (der Cursor führt SQL-Abfragen aus)\n",
    "cursor = conn.cursor()\n",
    "\n",
    "# SQL-Abfrage erstellen und ausführen\n",
    "df = pd.read_sql_query(\"\"\"SELECT * FROM smartphone_data_prepared\"\"\", con=conn)\n",
    "\n",
    "# Verbindung schliessen\n",
    "conn.close()\n",
    "\n",
    "# Anzeigen des DataFrames (erste 5 Zeilen)\n",
    "df.head()"
   ]
  },
  {
   "cell_type": "markdown",
   "id": "e5c27b72",
   "metadata": {},
   "source": [
    "## <b>Aufgaben (Dieser Teil wird bewertet!)</b>\n",
    "<b style=\"color:blue;\">Hinweise zu den folgenden Aufgabenstellungen:</b>\n",
    "<ul style=\"color:blue;\">\n",
    "  <li>Beachten Sie auch die zu jeder Aufgabenstellung zugehörenden Details zu Aufgabenstellung.</li>\n",
    "  <li>Lösen Sie jede Aufgabe mit Hilfe von Python Code. Integrieren Sie den Python Code in die Code-Zellen der jeweiligen Aufgabe.</li>\n",
    "  <li>Stellen Sie sämtliche von Ihnen erstellte Ergebnisse inklusive Graphiken im Jupyter Notebook dar.</li>\n",
    "</ul>"
   ]
  },
  {
   "cell_type": "markdown",
   "id": "6033f466",
   "metadata": {},
   "source": [
    "#### <b>Aufgabe (1): Erstellen Sie Samples für das Trainieren und Testen eines Regressions-Modells auf Basis des Smartphone Datensatzes.</b>\n",
    "<b>Details zur Aufgabenstellung:</b>\n",
    "- Verwenden Sie die Variable 'price' als Zielvariable.\n",
    "- Verwenden Sie folgende erklärenden Variablen: 'camera_resolution', 'battery_life', 'storage_size', 'screen_size'.\n",
    "- Es werden folgende Samples (Subsets der Dateb) für das Trainieren und Testen benötigt: X_train, X_test, y_train, y_test.\n",
    "- Im Sample für das Trainieren müssen 80% der Daten, im Sample und für das Testen müssen 20% der Daten enthalten sein.\n",
    "- Stellen Sie Ihre X_train und y_train Daten im Jupyter Notebook dar (z.B. erste 5 Zeilen/Werte).\n",
    "\n",
    "<b style=\"color: gray;\">(max. erreichbare Punkte: 4)</b>"
   ]
  },
  {
   "cell_type": "code",
   "execution_count": null,
   "id": "fdfcb555",
   "metadata": {},
   "outputs": [],
   "source": [
    "# Erstellen der Trainings- und Testdaten\n",
    "\n",
    "\n",
    "# Anzeigen von X_train\n",
    "\n",
    "\n",
    "# Anzeigen y_train\n"
   ]
  },
  {
   "cell_type": "markdown",
   "id": "c31d4887",
   "metadata": {},
   "source": [
    "#### <b>Aufgabe (2): Fitten Sie ein Multiples Lineares Regressionsmodell für die Vorhersage der Smartphone Preise.</b>\n",
    "<b>Details zur Aufgabenstellung:</b>\n",
    "- Ergänzen Sie den Python Code unten und Fitten Sie mit Hilfe von y_train und X_train_const ein Multiples Lineares Regressionsmodell.\n",
    "- Zeigen Sie den Modell-Output im Jupyter Notebook an.\n",
    "- Beantworten Sie in der Codezelle die Frage: Wieviel Prozent der Variablitiät (engl.: proportion of the variation) in y_train wird mit dem Modell erklärt?\n",
    "- Schreiben Sie Ihre Antwort zu der Frage per Hand in die vorbereitete print() Funktion (Ergänzen des Teils '... %').\n",
    "\n",
    "<b style=\"color: gray;\">(max. erreichbare Punkte: 4)</b>"
   ]
  },
  {
   "cell_type": "code",
   "execution_count": null,
   "id": "93aad8fd",
   "metadata": {},
   "outputs": [],
   "source": [
    "# Einlesen der Trainings- und Testdaten (damit alle die gleichen Daten haben)\n",
    "X_train = pd.read_csv('./Data/X_train.csv')\n",
    "X_test = pd.read_csv('./Data/X_test.csv')\n",
    "y_train = pd.read_csv('./Data/y_train.csv')\n",
    "y_test = pd.read_csv('./Data/y_test.csv')\n",
    "\n",
    "# Hinzufügen einer Konstante zu den Trainingsdaten\n",
    "X_train_const = sm.add_constant(X_train)\n",
    "\n",
    "# Fitten des Multiplen Linearen Regressionsmodells\n",
    "\n",
    "\n",
    "# Anzeigen des Modell-Outputs\n",
    "\n",
    "\n",
    "# Beantworten der Frage: Wieviel Prozent der Variablitiät in y_train wird mit dem Modell erklärt?\n",
    "print(f'\\nVon dem Modell wird rund ... % der Variabilität in y_train erklärt.')"
   ]
  },
  {
   "cell_type": "markdown",
   "id": "acc3fec8",
   "metadata": {},
   "source": [
    "#### <b>Aufgabe (3): Visualisieren Sie die Residuen eines Multiplen Linearen Regressionsmodells.</b>\n",
    "<b>Details zur Aufgabenstellung:</b>\n",
    "- Verwenden Sie den Python Code unten, um ein vorher abgespeichertes Multiples Lineares Regressionsmodell zu laden.\n",
    "- Zeigen Sie nach dem Laden des Modells die ersten 5 Modellresiduen an.\n",
    "- Erstellen Sie ein Histogramm der Modellresiduen.\n",
    "- Beschriften Sie das Histogramm (Titel, Achsen) und fügen sie der Graphik ein Gitternetz (grid) hinzu.\n",
    "- Stellen Sie das Histogram im Jupyter Notebook dar.<br><br>\n",
    "\n",
    "- Tipp: Die Modelresiduen sind in ols_model.resid gespeichert.\n",
    " \n",
    "<b style=\"color: gray;\">(max. erreichbare Punkte: 4)</b>"
   ]
  },
  {
   "cell_type": "code",
   "execution_count": null,
   "id": "ed99968e",
   "metadata": {},
   "outputs": [],
   "source": [
    "# Laden eines gespeicherten Multiplen Linearen Regressionsmodells (damit alle das gleiche Modell haben)\n",
    "with open('./Data/ols_model.pkl', 'rb') as f:\n",
    "    ols_model = pickle.load(f)\n",
    "\n",
    "# Anzeigen der ersten 5 Modellresiduen\n",
    "\n",
    "\n",
    "# Erstellen eines Histogramms der Modellresiduen\n",
    "\n",
    "\n",
    "# Anpassen der Plot-Achsen, -Titel und Hinzufügen eines Grids\n",
    "\n",
    "\n",
    "# Anzeigen des Histogramms\n"
   ]
  },
  {
   "cell_type": "markdown",
   "id": "2b80dc61",
   "metadata": {},
   "source": [
    "#### <b>Aufgabe (4): Erstellen Sie eine Preisvorhersage für ein Smartphone auf der Basis der geschätzten Modellkoeffizienten.</b>\n",
    "<b>Details zur Aufgabenstellung:</b>\n",
    "- Verwenden Sie den Python Code unten, um ein abgespeichertes Multiples Lineares Regressionsmodell zu laden.\n",
    "- Im Python Code werden die geschätzen Koeffizienten der erklärenden Variablen sowie der Achsenabschnitt (engl.: intercept oder const) angezeigt.\n",
    "- Verwenden Sie die geschätzen Koeffizienten inkl. const, und erstellen Sie per Hand eine Preisschätzung für ein Smartphone mit den unten angegebenen Eigenschaften.\n",
    "- Fügen Sie Ihre Formel für die Schätzung in die vorbereitete print() Funktion ein (Ersetzen Sie die '...').\n",
    "\n",
    "<b style=\"color: gray;\">(max. erreichbare Punkte: 4)</b>"
   ]
  },
  {
   "cell_type": "code",
   "execution_count": null,
   "id": "077a187d-05be-4c30-a367-a4e1a19d4466",
   "metadata": {},
   "outputs": [],
   "source": [
    "# Laden eines gespeicherten Multiplen Linearen Regressionsmodells (damit alle das gleiche Modell haben)\n",
    "with open('./Data/ols_model.pkl', 'rb') as f:\n",
    "    ols_model = pickle.load(f)\n",
    "\n",
    "# Anzeigen der geschätzen Koeffizienten (gerundet auf 2 Dezimalstellen)\n",
    "print(ols_model.params.round(2), '\\n')\n",
    "\n",
    "# Schätzen Sie den Preis eines Smartphones mit folgenden Eigenschaften:\n",
    "# camera_resolution = 12\n",
    "# battery_life = 16\n",
    "# storage_size = 128\n",
    "# screen_size = 6.5\n",
    "\n",
    "try:\n",
    "    # Geben Sie hier Ihre Lösung ein (ersetzen Sie jeweils die drei Punkte durch die korrekten Werte)\n",
    "    print(f'Lösung: {... + (...*...) + (...*...) + (...*...) + (...*...):.2f}') # Hinweis: ():.2f gibt die Lösung auf 2 Dezimalstellen genau aus\n",
    "except:\n",
    "    pass"
   ]
  },
  {
   "cell_type": "markdown",
   "id": "ba5b3943",
   "metadata": {},
   "source": [
    "#### <b>Aufgabe (5): Erstellen Sie ein Regression Tree Model für die Vorhersage der Smartphone Preise.</b>\n",
    "<b>Details zur Aufgabenstellung:</b>\n",
    "- Verwenden Sie den Python Code in der folgenden Codezelle, um die Trainings- und Testdaten einzulesen.\n",
    "- Erstellen und Trainieren Sie ein Regression Tree Model mit einer maximalen Tiefe von 3 (max_depth=3).\n",
    "- Erstellen Sie eine Vorhersage der Preise für die Testdaten (X_test).\n",
    "- Berechnen Sie die Vorhersagegüte mit Hilfe des r-squared (coefficient of determination).\n",
    "- Stellen Sie das Regression Tree Model im Jupyter Notebook graphisch dar. \n",
    "\n",
    "<b style=\"color: gray;\">(max. erreichbare Punkte: 8)</b>"
   ]
  },
  {
   "cell_type": "code",
   "execution_count": null,
   "id": "c2d69f01",
   "metadata": {},
   "outputs": [],
   "source": [
    "# Einlesen der Trainings- und Testdaten (damit alle die gleichen Daten haben)\n",
    "X_train = pd.read_csv('./Data/X_train.csv')\n",
    "X_test = pd.read_csv('./Data/X_test.csv')\n",
    "y_train = pd.read_csv('./Data/y_train.csv')\n",
    "y_test = pd.read_csv('./Data/y_test.csv')\n",
    "\n",
    "# Erstellen/Initialisieren eines 'decision tree regressor' Objekts\n",
    "\n",
    "\n",
    "# Trainieren des 'decision tree regressor' Objekts\n",
    "\n",
    "\n",
    "# Vorhersage der Preise für die Testdaten\n",
    "\n",
    "\n",
    "# Berechnen des r-squared (coefficient of determination) Wertes\n",
    "\n",
    "\n",
    "# Darstellen des Regression Trees\n",
    "\n"
   ]
  },
  {
   "cell_type": "markdown",
   "id": "08bd20f4",
   "metadata": {},
   "source": [
    "#### <b>Aufgabe (6): Erstellen Sie ein Random Forest Regression Model für die Vorhersage der Smartphone Preise.</b>\n",
    "<b>Details zur Aufgabenstellung:</b>\n",
    "- Verwenden Sie den Python Code in der folgenden Codezelle, um die Trainings- und Testdaten einzulesen.\n",
    "- Erstellen und Trainieren Sie ein Random Forest Regression Model mit 500 einzelnen Trees und einer maximalen Tiefe von 5.\n",
    "- Erstellen Sie eine Vorhersage der Preise für die Testdaten (X_test).\n",
    "- Berechnen Sie die Vorhersagegüte mit Hilfe des r-squared (coefficient of determination).\n",
    "- Stellen Sie die Feature Importance mit Hilfe eines Barcharts graphisch dar.\n",
    "\n",
    "<b style=\"color: gray;\">(max. erreichbare Punkte: 8)</b>"
   ]
  },
  {
   "cell_type": "code",
   "execution_count": null,
   "id": "504ca399",
   "metadata": {},
   "outputs": [],
   "source": [
    "# Einlesen der Trainings- und Testdaten (damit alle die gleichen Daten haben)\n",
    "X_train = pd.read_csv('./Data/X_train.csv')\n",
    "X_test = pd.read_csv('./Data/X_test.csv')\n",
    "y_train = pd.read_csv('./Data/y_train.csv')\n",
    "y_test = pd.read_csv('./Data/y_test.csv')\n",
    "\n",
    "# Erstellen/Initialisieren eines 'random forest regressor' Objekts\n",
    "\n",
    "\n",
    "# Trainieren des 'random forest regressor' Objekts\n",
    "\n",
    "\n",
    "# Vorhersage der Preise für die Testdaten X_test\n",
    "\n",
    "\n",
    "# Berechnen des r-squared (coefficient of determination)\n",
    "\n",
    "\n",
    "# Graphische Darstellung der Feature Importance\n",
    "\n"
   ]
  },
  {
   "cell_type": "markdown",
   "id": "d67e3225",
   "metadata": {},
   "source": [
    "#### <b>Aufgabe (7): Erstellen Sie ein Random Forest Classification Model für die Vorhersage der Hersteller.</b>\n",
    "<b>Details zur Aufgabenstellung:</b>\n",
    "- Verwenden Sie den Python Code in der folgenden Codezelle, um die Trainings- und Testdaten für die Klassifikation einzulesen.\n",
    "- Die Zielvariable in diesem Modell ist die Variable make (Hersteller).\n",
    "- Die erklärenden Variablen in diesem Modell sind: price, camera_resolution, battery_life, storage_size, screen_size.\n",
    "- Erstellen und Trainieren Sie ein Random Forest Classification Model.\n",
    "- Erstellen Sie eine Vorhersage der Zielvariable auf der Basis der Testdaten (X_test).\n",
    "- Erstellen Sie eine Confusion Matrix, und stellen Sie diese im Jupyter Notebook dar.\n",
    "- Erstellen Sie einen Classification report, und stellen Sie diesen im Jupyter Notebook dar.\n",
    "- Beantworten Sie die Frage: Wie hoch ist der Anteil der Hersteller welche vom Modell korrekt klassifiziert wurden?\n",
    "- Verwenden Sie für die Beantwortung der Frage die vorgefertigte print() Funktion (Ersetzen Sie '... %').\n",
    "\n",
    "<b style=\"color: gray;\">(max. erreichbare Punkte: 8)</b>"
   ]
  },
  {
   "cell_type": "code",
   "execution_count": null,
   "id": "d17007fb",
   "metadata": {},
   "outputs": [],
   "source": [
    "# Einlesen der Trainings- und Testdaten (damit alle die gleichen Daten haben)\n",
    "X_train = pd.read_csv('./Data/X_train_class.csv')\n",
    "X_test = pd.read_csv('./Data/X_test_class.csv')\n",
    "y_train = pd.read_csv('./Data/y_train_class.csv')\n",
    "y_test = pd.read_csv('./Data/y_test_class.csv')\n",
    "\n",
    "# Umformen der y_train and y_test zu 1-dimensional arrays\n",
    "y_train = y_train.values.ravel()\n",
    "y_test = y_test.values.ravel()\n",
    "\n",
    "# Erstellen/Initialisieren des 'random forest classifier' Objekts\n",
    "\n",
    "\n",
    "# Trainieren des Random Forest Classification Modells\n",
    "\n",
    "\n",
    "# Vorhersage der Zielvariable für die Testdaten X_test\n",
    "\n",
    "\n",
    "# Confusion matrix\n",
    "\n",
    "\n",
    "# Classification report\n",
    "\n",
    "\n",
    "# Beantworten der Frage: Wieviel % der Hersteller wurden korrekt klassifiziert?\n",
    "print(f'\\nDer Anteil der vom Modell korrekt klassifizierten Hersteller beträgt ... %.')"
   ]
  },
  {
   "cell_type": "markdown",
   "id": "51ec75c6",
   "metadata": {},
   "source": [
    "#### <b>Aufgabe (8): Erstellen Sie ein Random Forest Classification Model für die Vorhersage der beiden Hersteller 'Apple' und 'Vivo'.</b>\n",
    "<b>Details zur Aufgabenstellung:</b>\n",
    "- Es handelt sich bei diesem Beispiel um ein Klassifikationsproblem mit zwei Klassen ('Apple' und 'Vivo').\n",
    "- Ergänzen Sie den Python Code dort wo notwendig.\n",
    "- Beantworten Sie mit eigenen Worten die Frage: Wie gut ist das Modell darin, Smartphones von Apple und Vivo zu unterscheiden?\n",
    "- Verwenden Sie für die Beantwortung der Frage die vorgefertigte print() Funktion (Ersetzen Sie die '...').\n",
    "\n",
    "<b style=\"color: gray;\">(max. erreichbare Punkte: 8)</b>"
   ]
  },
  {
   "cell_type": "code",
   "execution_count": null,
   "id": "f15dbd26",
   "metadata": {},
   "outputs": [],
   "source": [
    "# Einlesen der Trainings- und Testdaten (damit alle die gleichen Daten haben)\n",
    "X_train = pd.read_csv('./Data/X_train_class.csv')\n",
    "X_test = pd.read_csv('./Data/X_test_class.csv')\n",
    "y_train = pd.read_csv('./Data/y_train_class.csv')\n",
    "y_test = pd.read_csv('./Data/y_test_class.csv')\n",
    "\n",
    "# Subset der Trainings- und Testdaten erstellen (nur zwei Hersteller)\n",
    "X_train_subset = X_train[y_train['make'].isin(['Apple', 'Vivo'])]\n",
    "y_train_subset = y_train[y_train['make'].isin(['Apple', 'Vivo'])]\n",
    "X_test_subset = X_test[y_test['make'].isin(['Apple', 'Vivo'])]\n",
    "y_test_subset = y_test[y_test['make'].isin(['Apple', 'Vivo'])]\n",
    "\n",
    "# Umformen der y_train and y_test zu 1-dimensional arrays\n",
    "y_train = y_train.values.ravel()\n",
    "y_test = y_test.values.ravel()\n",
    "\n",
    "# Erstellen/Initialisieren des 'random forest classifier' Objekts\n",
    "\n",
    "\n",
    "# Trainieren des Random Forest Classification Modells\n",
    "\n",
    "\n",
    "# Vorhersage der Zielvariable für die Testdaten\n",
    "\n",
    "\n",
    "# Confusion matrix\n",
    "\n",
    "\n",
    "# Classification report\n",
    "\n",
    "\n",
    "# Erstellen der Graphik mit ROC curve und AUC\n",
    "\n",
    "\n",
    "# Beantworten Sie die Frage: Wie gut ist das Modell darin, Smartphones von Apple und Vivo zu unterscheiden?\n",
    "print(f'\\nDas Modell ist ... darin, Smartphones von Apple und Vivo zu unterscheiden, da die AUC bei ... liegt.')\n"
   ]
  },
  {
   "attachments": {},
   "cell_type": "markdown",
   "id": "ff525b1e",
   "metadata": {},
   "source": [
    "### Jupyter notebook --footer info-- (please always provide this at the end of each notebook)"
   ]
  },
  {
   "cell_type": "code",
   "execution_count": null,
   "id": "e6cae5b2",
   "metadata": {},
   "outputs": [],
   "source": [
    "import os\n",
    "import platform\n",
    "import socket\n",
    "from platform import python_version\n",
    "from datetime import datetime\n",
    "\n",
    "print('-----------------------------------')\n",
    "print(os.name.upper())\n",
    "print(platform.system(), '|', platform.release())\n",
    "print('Datetime:', datetime.now().strftime(\"%Y-%m-%d %H:%M:%S\"))\n",
    "print('Python Version:', python_version())\n",
    "print('IP Address:', socket.gethostbyname(socket.gethostname()))\n",
    "print('-----------------------------------')"
   ]
  }
 ],
 "metadata": {
  "kernelspec": {
   "display_name": "dsenv",
   "language": "python",
   "name": "python3"
  },
  "language_info": {
   "codemirror_mode": {
    "name": "ipython",
    "version": 3
   },
   "file_extension": ".py",
   "mimetype": "text/x-python",
   "name": "python",
   "nbconvert_exporter": "python",
   "pygments_lexer": "ipython3",
   "version": "3.12.4"
  }
 },
 "nbformat": 4,
 "nbformat_minor": 5
}
